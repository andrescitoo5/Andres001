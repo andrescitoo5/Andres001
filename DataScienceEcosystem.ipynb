{
 "cells": [
  {
   "cell_type": "markdown",
   "id": "52c405f6-24c6-4244-a9d0-62d991f3f0b2",
   "metadata": {},
   "source": [
    "# Data Science Tools and Ecosystem"
   ]
  },
  {
   "cell_type": "markdown",
   "id": "662ace06-58d5-4cb5-a5e6-e21ab48ea00c",
   "metadata": {},
   "source": [
    "**In this notebook, Data Science Tools and Ecosystem are summarized**"
   ]
  },
  {
   "cell_type": "markdown",
   "id": "41f4d958-1c02-4395-942d-8b0b42669500",
   "metadata": {},
   "source": [
    "**Objetives**\n",
    "1. Insertar y eliminar celda de codigo\n",
    "2. Escribir comentarios en Python\n",
    "3. Crear y utilizar celdas Markdown"
   ]
  },
  {
   "cell_type": "markdown",
   "id": "33c083c5-f161-4181-b841-11838620fa65",
   "metadata": {},
   "source": [
    "# Some of the popular languages that Data Scientists use are:\n",
    "1. Python\n",
    "2. Java\n",
    "3. C++\n",
    "4. C"
   ]
  },
  {
   "cell_type": "markdown",
   "id": "aa14d0c3-f1c8-47d3-bbc4-e790509eaf58",
   "metadata": {},
   "source": [
    "# Some of the commonly used libraries used by Data Scientits include:\n",
    "1. NumPy\n",
    "2. Pandas\n",
    "3. Matplotlib"
   ]
  },
  {
   "cell_type": "markdown",
   "id": "c2e7a144-59a4-4c1d-a1f1-b90392fdbc34",
   "metadata": {},
   "source": [
    "| Data Science Tools |\n",
    "|--------------------|\n",
    "| JupyterLab |\n",
    "| Anaconda |\n",
    "| SaaS |"
   ]
  },
  {
   "cell_type": "markdown",
   "id": "9f694ced-253c-49c1-932e-900bf2bdd27e",
   "metadata": {},
   "source": [
    "### Below are a few examples of evaluating arithmetic expressions in Python"
   ]
  },
  {
   "cell_type": "code",
   "execution_count": 11,
   "id": "a9908afa-2f89-4091-8b0e-5eebcd18bc3c",
   "metadata": {},
   "outputs": [
    {
     "data": {
      "text/plain": [
       "17"
      ]
     },
     "execution_count": 11,
     "metadata": {},
     "output_type": "execute_result"
    }
   ],
   "source": [
    "# This a simple arithmetic expression to multiply then add integers\n",
    "(3*4)+5"
   ]
  },
  {
   "cell_type": "code",
   "execution_count": 12,
   "id": "fc080081-c35f-4d2d-a9cc-0bfa370f2dc9",
   "metadata": {},
   "outputs": [
    {
     "data": {
      "text/plain": [
       "3.3333333333333335"
      ]
     },
     "execution_count": 12,
     "metadata": {},
     "output_type": "execute_result"
    }
   ],
   "source": [
    "# This sill convert 200 minutes to hours by diving by 60\n",
    "200/60"
   ]
  },
  {
   "cell_type": "markdown",
   "id": "7d39dc3e-1605-4a8d-af70-e134f39ceebe",
   "metadata": {},
   "source": [
    "## Autor\n",
    "Andres Navarrete Oyarce"
   ]
  },
  {
   "cell_type": "markdown",
   "id": "36927950-ad26-4df7-9f75-2360b232aaf9",
   "metadata": {},
   "source": []
  }
 ],
 "metadata": {
  "kernelspec": {
   "display_name": "Python 3 (ipykernel)",
   "language": "python",
   "name": "python3"
  },
  "language_info": {
   "codemirror_mode": {
    "name": "ipython",
    "version": 3
   },
   "file_extension": ".py",
   "mimetype": "text/x-python",
   "name": "python",
   "nbconvert_exporter": "python",
   "pygments_lexer": "ipython3",
   "version": "3.12.7"
  }
 },
 "nbformat": 4,
 "nbformat_minor": 5
}
